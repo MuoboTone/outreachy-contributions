{
 "cells": [
  {
   "cell_type": "code",
   "execution_count": null,
   "metadata": {},
   "outputs": [
    {
     "name": "stdout",
     "output_type": "stream",
     "text": [
      "Drug_ID    0\n",
      "Drug       0\n",
      "Y          0\n",
      "dtype: int64\n"
     ]
    },
    {
     "data": {
      "image/png": "[encoded data removed]",
      "text/plain": [
       "<Figure size 640x480 with 1 Axes>"
      ]
     },
     "metadata": {},
     "output_type": "display_data"
    }
   ],
   "source": [
    "#check for missing values\n",
    "import pandas as pd\n",
    "import seaborn as sns\n",
    "import matplotlib.pyplot as plt \n",
    "import numpy as np\n",
    "\n",
    "df = pd.read_csv(\"../../data/tox21_full.csv\")\n",
    "sns.heatmap(df.isnull(), cbar=False, cmap=\"viridis\")\n",
    "\n",
    "\n",
    "print(df.isnull().sum())\n",
    "plt.show()\n",
    "\n",
    "#output shows that there are no missing values "
   ]
  },
  {
   "cell_type": "code",
   "execution_count": null,
   "metadata": {},
   "outputs": [
    {
     "name": "stdout",
     "output_type": "stream",
     "text": [
      "0\n",
      "0\n"
     ]
    }
   ],
   "source": [
    "#check for duplicates\n",
    "\n",
    "print(df['Drug'].duplicated().sum())\n",
    "print(df['Drug_ID'].duplicated().sum())\n",
    "\n",
    "#output shows no duplicates in both columns"
   ]
  },
  {
   "cell_type": "code",
   "execution_count": null,
   "metadata": {},
   "outputs": [
    {
     "data": {
      "text/plain": [
       "Y\n",
       "0.0    4892\n",
       "1.0     918\n",
       "Name: count, dtype: int64"
      ]
     },
     "execution_count": 8,
     "metadata": {},
     "output_type": "execute_result"
    }
   ],
   "source": [
    "#check for class distribution\n",
    "\n",
    "df['Y'].value_counts()"
   ]
  },
  {
   "cell_type": "markdown",
   "metadata": {},
   "source": [
    "output shows that the dataset is imbalanced\n",
    "Y=0 has a distinct majority of 80:20. \n",
    "This might cause model bias\n",
    "I will put this into consideration when evaluating model performance. "
   ]
  },
  {
   "cell_type": "code",
   "execution_count": null,
   "metadata": {},
   "outputs": [
    {
     "name": "stdout",
     "output_type": "stream",
     "text": [
      "Train class ratios:\n",
      " Y\n",
      "0.0    3439\n",
      "1.0     628\n",
      "Name: count, dtype: int64\n",
      "Test class ratios:\n",
      " Y\n",
      "0.0    981\n",
      "1.0    181\n",
      "Name: count, dtype: int64\n",
      "Validation class ratios:\n",
      " Y\n",
      "0.0    472\n",
      "1.0    109\n",
      "Name: count, dtype: int64\n"
     ]
    }
   ],
   "source": [
    "#checking class balance in default TDC split to know if I should re-split\n",
    "\n",
    "df_train = pd.read_csv(\"../../data/tox21_train.csv\")\n",
    "df_test = pd.read_csv(\"../../data/tox21_test.csv\")\n",
    "df_valid =  pd.read_csv(\"../../data/tox21_valid.csv\")\n",
    "\n",
    "print(\"Train class ratios:\\n\", df_train['Y'].value_counts())\n",
    "print(\"Test class ratios:\\n\", df_test['Y'].value_counts())\n",
    "print(\"Validation class ratios:\\n\", df_valid['Y'].value_counts())\n",
    "\n",
    "#Output shows that while there might be class imbalance, ratios across splits are consistent. \n",
    "#TDC’s predefined splits are widely used in published research, so I will be using it to ensure my results are comparable \n",
    "\n",
    "\n",
    "\n"
   ]
  },
  {
   "cell_type": "code",
   "execution_count": 29,
   "metadata": {},
   "outputs": [
    {
     "name": "stdout",
     "output_type": "stream",
     "text": [
      "✅ No overlapping compounds in any split.\n"
     ]
    }
   ],
   "source": [
    "#Next I perform validation checks by overlapping SMILES between splits to avoid inflated performance metrics\n",
    "\n",
    "train = set(df_train['Drug'])  \n",
    "val = set(df_valid['Drug'])\n",
    "test = set(df_test['Drug'])\n",
    "\n",
    "assert len(train & val) == 0, \"Train/Val overlap detected!\"\n",
    "assert len(train & test) == 0, \"Train/Test overlap detected!\"\n",
    "assert len(val & test) == 0, \"Val/Test overlap detected!\"\n",
    "\n",
    "print(\"✅ No overlapping compounds in any split.\")\n",
    "\n"
   ]
  }
 ],
 "metadata": {
  "kernelspec": {
   "display_name": "myenv",
   "language": "python",
   "name": "python3"
  },
  "language_info": {
   "codemirror_mode": {
    "name": "ipython",
    "version": 3
   },
   "file_extension": ".py",
   "mimetype": "text/x-python",
   "name": "python",
   "nbconvert_exporter": "python",
   "pygments_lexer": "ipython3",
   "version": "3.9.21"
  }
 },
 "nbformat": 4,
 "nbformat_minor": 2
}
