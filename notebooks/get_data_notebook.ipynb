{
 "cells": [
  {
   "cell_type": "code",
   "execution_count": 2,
   "metadata": {},
   "outputs": [
    {
     "name": "stdout",
     "output_type": "stream",
     "text": [
      "Available Assays are: ['NR-AR', 'NR-AR-LBD', 'NR-AhR', 'NR-Aromatase', 'NR-ER', 'NR-ER-LBD', 'NR-PPAR-gamma', 'SR-ARE', 'SR-ATAD5', 'SR-HSE', 'SR-MMP', 'SR-p53']\n"
     ]
    }
   ],
   "source": [
    "#Tox21 contains multiple assays data.\n",
    "#we want to find all available label names\n",
    "\n",
    "from tdc.utils import retrieve_label_name_list \n",
    "label_list = retrieve_label_name_list('Tox21')\n",
    "print(f\"Available Assays are: {label_list}\")\n"
   ]
  },
  {
   "cell_type": "code",
   "execution_count": 3,
   "metadata": {},
   "outputs": [
    {
     "name": "stderr",
     "output_type": "stream",
     "text": [
      "Downloading...\n"
     ]
    },
    {
     "name": "stderr",
     "output_type": "stream",
     "text": [
      "100%|██████████| 712k/712k [00:01<00:00, 401kiB/s]  \n",
      "Loading...\n",
      "Done!\n"
     ]
    }
   ],
   "source": [
    "from tdc.single_pred import Tox\n",
    "\n",
    "data = Tox(name='Tox21', label_name=label_list[10])\n",
    "split = data.get_split() \n",
    "\n",
    "train_data = split['train']\n",
    "valid_data = split['valid']\n",
    "test_data = split['test']\n",
    "\n",
    " "
   ]
  },
  {
   "cell_type": "code",
   "execution_count": 4,
   "metadata": {},
   "outputs": [],
   "source": [
    "\n",
    "\n",
    "# Save all splits\n",
    "split['train'].to_csv(\"tox21_train.csv\", index=False)\n",
    "split['valid'].to_csv(\"tox21_valid.csv\", index=False)\n",
    "split['test'].to_csv(\"tox21_test.csv\", index=False)\n",
    "\n",
    "# Save full unsplit dataset\n",
    "full_data = data.get_data()\n",
    "full_data.to_csv(\"tox21_full.csv\", index=False)\n",
    "\n",
    "#outputs are csv files for each split and the entire dataset\n"
   ]
  },
  {
   "cell_type": "code",
   "execution_count": null,
   "metadata": {},
   "outputs": [
    {
     "name": "stdout",
     "output_type": "stream",
     "text": [
      "<class 'pandas.core.frame.DataFrame'>\n",
      "RangeIndex: 5810 entries, 0 to 5809\n",
      "Data columns (total 3 columns):\n",
      " #   Column   Non-Null Count  Dtype  \n",
      "---  ------   --------------  -----  \n",
      " 0   Drug_ID  5810 non-null   object \n",
      " 1   Drug     5810 non-null   object \n",
      " 2   Y        5810 non-null   float64\n",
      "dtypes: float64(1), object(2)\n",
      "memory usage: 136.3+ KB\n"
     ]
    }
   ],
   "source": [
    "import pandas as pd\n",
    "\n",
    "df = pd.read_csv('data/tox21_full.csv')\n",
    "df.info()\n",
    "\n",
    "#output is info about the size of the data and all columns\n"
   ]
  }
 ],
 "metadata": {
  "kernelspec": {
   "display_name": "Python (myenv)",
   "language": "python",
   "name": "myenv"
  }
 },
 "nbformat": 4,
 "nbformat_minor": 2
}
