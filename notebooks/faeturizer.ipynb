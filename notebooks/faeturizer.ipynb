{
 "cells": [
  {
   "cell_type": "code",
   "execution_count": null,
   "metadata": {},
   "outputs": [],
   "source": [
    "#NOTE: This scripts will only run successfully after you install Ersilia Model Hub and fetch the model of interest\n",
    "\n",
    "from ersilia import ErsiliaModel\n",
    "import os"
   ]
  },
  {
   "cell_type": "code",
   "execution_count": null,
   "metadata": {},
   "outputs": [],
   "source": [
    "mdl = ErsiliaModel(\"model_ID\") #use your model id\n",
    "mdl.serve()"
   ]
  },
  {
   "cell_type": "code",
   "execution_count": null,
   "metadata": {},
   "outputs": [],
   "source": [
    "import pandas as pd\n",
    "\n",
    "#load your data\n",
    "path = \"\" #replace with dataset file name without the csv\n",
    "df = pd.read_csv(f\"{path}.csv\") \n",
    "\n",
    "# Extract just the Drug column containing SMILES\n",
    "smiles_df = df[[\"SMILES_column\"]] #replace with name of column holding smiles\n",
    "\n",
    "# Save to new CSV file\n",
    "smiles_df.to_csv(\"smiles_only.csv\", index=False) #creates a new csv file containing only the smile strings\n",
    "\n",
    "\n"
   ]
  },
  {
   "cell_type": "code",
   "execution_count": null,
   "metadata": {},
   "outputs": [],
   "source": [
    "\n",
    "#defines a dictionary that maps input files to their corresponding output files for featurization\n",
    "\n",
    "pd.DataFrame().to_csv('smiles_featurized.csv', index=False) #create an empty CSV file\n",
    "\n",
    "datasets = {\n",
    "        \"smiles_only.csv\": \"smiles_featurized.csv\",\n",
    "    }"
   ]
  },
  {
   "cell_type": "code",
   "execution_count": null,
   "metadata": {},
   "outputs": [],
   "source": [
    "\n",
    "for input_file, output_file in datasets.items():\n",
    "    if os.path.exists(input_file): # Check if the input file exists\n",
    "\n",
    "        # Run the model/featurization on the input file\n",
    "        # Generating output to the specified output file\n",
    "        mdl.run(input=input_file, output=output_file)\n",
    "    else:\n",
    "        raise FileNotFoundError(f\"Input file '{input_file}' not found!\")  # Raise an error if the input file is missing"
   ]
  },
  {
   "cell_type": "code",
   "execution_count": null,
   "metadata": {},
   "outputs": [],
   "source": [
    "import pandas as pd\n",
    "original_data = pd.read_csv(f\"{path}.csv\")\n",
    "features = pd.read_csv(\"smiles_featurized.csv\")\n",
    "\n",
    "# Merge data on column  containing SMILES\n",
    "combined_data = pd.merge(\n",
    "    original_data,\n",
    "    features,\n",
    "    left_on=\"Drug\",    # Column in original dataset\n",
    "    right_on=\"input\",  # Column in DrugTax output\n",
    "    how=\"left\"         # Keeps all rows from original_data\n",
    ")\n",
    "\n",
    "\n",
    " \n",
    "combined_data.to_csv(f\"{path}_featurized.csv\", index=False)  #create an empty CSV file and adds combined data "
   ]
  },
  {
   "cell_type": "code",
   "execution_count": null,
   "metadata": {},
   "outputs": [],
   "source": [
    "mdl.close() #close served model"
   ]
  }
 ],
 "metadata": {
  "kernelspec": {
   "display_name": "Python (myenv)",
   "language": "python",
   "name": "myenv"
  },
  "language_info": {
   "codemirror_mode": {
    "name": "ipython",
    "version": 3
   },
   "file_extension": ".py",
   "mimetype": "text/x-python",
   "name": "python",
   "nbconvert_exporter": "python",
   "pygments_lexer": "ipython3",
   "version": "3.9.21"
  }
 },
 "nbformat": 4,
 "nbformat_minor": 2
}
